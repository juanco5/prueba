{
 "cells": [
  {
   "cell_type": "code",
   "execution_count": 2,
   "metadata": {},
   "outputs": [],
   "source": [
    "import numpy as np\n"
   ]
  },
  {
   "cell_type": "code",
   "execution_count": 3,
   "metadata": {},
   "outputs": [],
   "source": [
    "#crear un tablero \n",
    "\n",
    "def init_tablero(size = (10, 10), fill = \" \"):\n",
    "    tablero = np.full(size, fill)\n",
    "    return tablero\n",
    "\n",
    "tablero_jugador = init_tablero()\n",
    "tablero_maquina = init_tablero()"
   ]
  },
  {
   "cell_type": "code",
   "execution_count": null,
   "metadata": {},
   "outputs": [],
   "source": [
    "#colocar los barcos jugador\n",
    "tablero_jugador = init_tablero()\n",
    "\n",
    "\n",
    "#barcos\n",
    "barco_1 = [(0,1), (1,1)] \n",
    "barco_2 = [(1,3), (1,4), (1,5), (1,6)]\n",
    "lista_barcos = [barco_1, barco_2]\n",
    "\n",
    "for i in lista_barcos:\n",
    "    for j in i:\n",
    "        tablero_jugador[j] = \"O\"\n",
    "\n",
    "print(tablero_jugador)"
   ]
  },
  {
   "cell_type": "code",
   "execution_count": null,
   "metadata": {},
   "outputs": [],
   "source": [
    "#colocar los barcos maquina\n",
    "tablero_maquina = init_tablero()\n",
    "\n",
    "\n",
    "#barcos\n",
    "barco_3 = [(0,8), (1,8)] \n",
    "barco_4 = [(5,3), (5,4), (5,5), (5,6)]\n",
    "lista_barcos = [barco_3, barco_4]\n",
    "\n",
    "for i in lista_barcos:\n",
    "    for j in i:\n",
    "        tablero_maquina[j] = \"O\"\n",
    "\n",
    "print(tablero_maquina)"
   ]
  },
  {
   "cell_type": "code",
   "execution_count": null,
   "metadata": {},
   "outputs": [],
   "source": [
    "while True:\n",
    "\n",
    "        coord_x = int(input(\"Coord X:\"))\n",
    "        coord_y = int(input(\"Coord Y:\"))\n",
    "\n",
    "        if tablero_maquina[coord_x, coord_y] == \"O\":\n",
    "            tablero_maquina[coord_x, coord_y] = \"X\"\n",
    "            print(\"Has acertado!\")\n",
    "            print(tablero_maquina)\n",
    "\n",
    "        elif tablero_maquina[coord_x, coord_y] == \" \":\n",
    "            tablero_maquina[coord_x, coord_y] = \"-\"\n",
    "            print(\"Agua\")\n",
    "            print(\"Turno de la máquina\")\n",
    "            print(tablero_maquina)\n",
    "    \n",
    "        \n",
    "            coord_x = int(input(np.random.randint(0, 10)))\n",
    "            coord_y = int(input(np.random.randint(0, 10)))\n",
    "            if tablero_jugador[coord_x, coord_y] == \"O\":\n",
    "                tablero_jugador[coord_x, coord_y] = \"X\"\n",
    "                print(\"Maquina ha acertado!\")\n",
    "                print(tablero_jugador)\n",
    "            \n",
    "            elif tablero_jugador[coord_x, coord_y] == \" \":\n",
    "                tablero_jugador[coord_x, coord_y] = \"-\"\n",
    "                print(tablero_jugador)\n",
    "        \n",
    "\n",
    "# Verificar si algún jugador ha perdido\n",
    "        if \"O\" in tablero_maquina or \"O\" in tablero_jugador:\n",
    "            print(\"sigan jugando\")\n",
    "        elif \"O\" not in tablero_jugador:\n",
    "            print(\"Has perido\")\n",
    "        elif \"O\" not in tablero_maquina:\n",
    "            print(\"Has ganado\")\n",
    "        \n",
    "            break"
   ]
  }
 ],
 "metadata": {
  "kernelspec": {
   "display_name": "Python 3",
   "language": "python",
   "name": "python3"
  },
  "language_info": {
   "codemirror_mode": {
    "name": "ipython",
    "version": 3
   },
   "file_extension": ".py",
   "mimetype": "text/x-python",
   "name": "python",
   "nbconvert_exporter": "python",
   "pygments_lexer": "ipython3",
   "version": "3.12.2"
  }
 },
 "nbformat": 4,
 "nbformat_minor": 2
}
