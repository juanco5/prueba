{
 "cells": [
  {
   "cell_type": "code",
   "execution_count": 2,
   "metadata": {},
   "outputs": [
    {
     "name": "stdout",
     "output_type": "stream",
     "text": [
      "Requirement already satisfied: numpy in c:\\users\\juanc\\appdata\\local\\programs\\python\\python312\\lib\\site-packages (1.26.4)Note: you may need to restart the kernel to use updated packages.\n",
      "\n"
     ]
    }
   ],
   "source": [
    "pip install numpy"
   ]
  },
  {
   "cell_type": "code",
   "execution_count": 2,
   "metadata": {},
   "outputs": [],
   "source": [
    "import numpy as np"
   ]
  },
  {
   "cell_type": "code",
   "execution_count": null,
   "metadata": {},
   "outputs": [],
   "source": []
  },
  {
   "cell_type": "code",
   "execution_count": 3,
   "metadata": {},
   "outputs": [],
   "source": [
    "#crear un tablero \n",
    "\n",
    "def init_tablero(size = (10, 10), fill = \" \"):\n",
    "    tablero = np.full(size, fill)\n",
    "    return tablero\n",
    "\n",
    "\n"
   ]
  },
  {
   "cell_type": "code",
   "execution_count": 4,
   "metadata": {},
   "outputs": [
    {
     "name": "stdout",
     "output_type": "stream",
     "text": [
      "[[' ' 'O' ' ' ' ' ' ' ' ' ' ' ' ' ' ' ' ']\n",
      " [' ' 'O' ' ' 'O' 'O' 'O' 'O' ' ' ' ' ' ']\n",
      " [' ' ' ' ' ' ' ' ' ' ' ' ' ' ' ' ' ' ' ']\n",
      " [' ' ' ' ' ' ' ' ' ' ' ' ' ' ' ' ' ' ' ']\n",
      " [' ' ' ' ' ' ' ' ' ' ' ' ' ' ' ' ' ' ' ']\n",
      " [' ' ' ' ' ' ' ' ' ' ' ' ' ' ' ' ' ' ' ']\n",
      " [' ' ' ' ' ' ' ' ' ' ' ' ' ' ' ' ' ' ' ']\n",
      " [' ' ' ' ' ' ' ' ' ' ' ' ' ' ' ' ' ' ' ']\n",
      " [' ' ' ' ' ' ' ' ' ' ' ' ' ' ' ' ' ' ' ']\n",
      " [' ' ' ' ' ' ' ' ' ' ' ' ' ' ' ' ' ' ' ']]\n"
     ]
    }
   ],
   "source": [
    "#colocar los barcos\n",
    "tablero = init_tablero()\n",
    "\n",
    "\n",
    "#barcos\n",
    "barco_1 = [(0,1), (1,1)] \n",
    "barco_2 = [(1,3), (1,4), (1,5), (1,6)]\n",
    "lista_barcos = [barco_1, barco_2]\n",
    "\n",
    "for i in lista_barcos:\n",
    "    for j in i:\n",
    "        tablero[j] = \"O\"\n",
    "\n",
    "print(tablero)"
   ]
  },
  {
   "cell_type": "code",
   "execution_count": 5,
   "metadata": {},
   "outputs": [],
   "source": [
    "#Disparar \n",
    "\n",
    "def disparar(tablero):\n",
    "    coord_x = int(input(\"Coord X:\"))\n",
    "    coord_y = int(input(\"Coord Y:\"))\n",
    "\n",
    "    if tablero[coord_x, coord_y] == \"O\":\n",
    "        tablero[coord_x, coord_y] = \"X\"\n",
    "        print(\"Has acertado!\")\n",
    "\n",
    "    elif tablero[coord_x, coord_y] == \" \":\n",
    "        tablero[coord_x, coord_y] = \"-\"\n",
    "        print(\"Has fallado!\")\n",
    "\n",
    "    else:\n",
    "        print(\"Has repetido el disparo.\")\n",
    "\n",
    "    print(tablero)"
   ]
  },
  {
   "cell_type": "code",
   "execution_count": null,
   "metadata": {},
   "outputs": [],
   "source": [
    "tablero_jugador = tablero\n",
    "tablero_maquina = tablero\n",
    "\n",
    "\n",
    "print(\"Hola bienvenido al juego de hlf!\")\n",
    "\n",
    "print(\"Disfruta!\")\n",
    "\n",
    "\n",
    "print(tablero_jugador)\n",
    "\n",
    "\n",
    "while \"O\" in tablero_jugador:\n",
    "    disparar(tablero=tablero_jugador)\n",
    "    print(tablero_jugador)\n",
    "\n",
    "    if \"O\" not in tablero_jugador:\n",
    "        print(\"Has ganado!\")\n",
    "        break\n"
   ]
  },
  {
   "cell_type": "code",
   "execution_count": 7,
   "metadata": {},
   "outputs": [
    {
     "name": "stdout",
     "output_type": "stream",
     "text": [
      "Maquina ha fallado!\n"
     ]
    }
   ],
   "source": [
    "\n",
    "            coord_x = int(input(np.random.randint(0, 10)))\n",
    "            coord_y = int(input(np.random.randint(0, 10)))\n",
    "            if tablero_jugador[coord_x, coord_y] == \"O\":\n",
    "                tablero_jugador[coord_x, coord_y] = \"X\"\n",
    "                print(\"Maquina ha acertado!\")\n",
    "            else:\n",
    "                print(\"Maquina ha fallado!\")"
   ]
  },
  {
   "cell_type": "code",
   "execution_count": 3,
   "metadata": {},
   "outputs": [
    {
     "name": "stdout",
     "output_type": "stream",
     "text": [
      "Tu turno\n"
     ]
    },
    {
     "ename": "NameError",
     "evalue": "name 'counter' is not defined",
     "output_type": "error",
     "traceback": [
      "\u001b[1;31m---------------------------------------------------------------------------\u001b[0m",
      "\u001b[1;31mNameError\u001b[0m                                 Traceback (most recent call last)",
      "Cell \u001b[1;32mIn[3], line 19\u001b[0m\n\u001b[0;32m     16\u001b[0m             \u001b[38;5;28mprint\u001b[39m(\u001b[38;5;124m\"\u001b[39m\u001b[38;5;124mLa máquina ha fallado en (\u001b[39m\u001b[38;5;132;01m{}\u001b[39;00m\u001b[38;5;124m, \u001b[39m\u001b[38;5;132;01m{}\u001b[39;00m\u001b[38;5;124m)\u001b[39m\u001b[38;5;124m\"\u001b[39m\u001b[38;5;241m.\u001b[39mformat(x, y))\n\u001b[0;32m     18\u001b[0m \u001b[38;5;66;03m# Verificar si algún jugador ha perdido\u001b[39;00m\n\u001b[1;32m---> 19\u001b[0m     \u001b[38;5;28;01mif\u001b[39;00m \u001b[43mcounter\u001b[49m \u001b[38;5;241m==\u001b[39m \u001b[38;5;241m6\u001b[39m:\n\u001b[0;32m     20\u001b[0m         \u001b[38;5;28mprint\u001b[39m(\u001b[38;5;124m\"\u001b[39m\u001b[38;5;124m¡Has perdido! La máquina ha hundido todos tus barcos.\u001b[39m\u001b[38;5;124m\"\u001b[39m)\n\u001b[0;32m     21\u001b[0m         \u001b[38;5;28;01mbreak\u001b[39;00m\n",
      "\u001b[1;31mNameError\u001b[0m: name 'counter' is not defined"
     ]
    }
   ],
   "source": [
    "mi_turno = True\n",
    "while True:\n",
    "    if mi_turno:\n",
    "        print(\"Tu turno\")\n",
    "        # Lógica para que el jugador dispare\n",
    "        # Puedes implementar aquí la interacción con el usuario para que introduzca las coordenadas\n",
    "\n",
    "    else:\n",
    "        print(\"Turno de la máquina\")\n",
    "        # Lógica para que la máquina dispare aleatoriamente\n",
    "        x = np.random.randint(0, 10)\n",
    "\n",
    "        \n",
    "        y = np.random.randint(0, 10)\n",
    "        if disparar(tablero_jugador, x, y):\n",
    "            print(\"La máquina ha acertado en ({}, {})\".format(x, y))\n",
    "        else:\n",
    "            print(\"La máquina ha fallado en ({}, {})\".format(x, y))\n",
    "\n",
    "# Verificar si algún jugador ha perdido\n",
    "    if counter == 6:\n",
    "        print(\"¡Has perdido! La máquina ha hundido todos tus barcos.\")\n",
    "        break\n",
    "    elif counter_maquina == 6:\n",
    "        print(\"¡Has ganado! Has hundido todos los barcos de la máquina.\")\n",
    "        break\n",
    "\n"
   ]
  }
 ],
 "metadata": {
  "kernelspec": {
   "display_name": "Python 3",
   "language": "python",
   "name": "python3"
  },
  "language_info": {
   "codemirror_mode": {
    "name": "ipython",
    "version": 3
   },
   "file_extension": ".py",
   "mimetype": "text/x-python",
   "name": "python",
   "nbconvert_exporter": "python",
   "pygments_lexer": "ipython3",
   "version": "3.12.2"
  }
 },
 "nbformat": 4,
 "nbformat_minor": 2
}
